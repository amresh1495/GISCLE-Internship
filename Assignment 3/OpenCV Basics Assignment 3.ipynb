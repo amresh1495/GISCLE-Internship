{
 "cells": [
  {
   "cell_type": "code",
   "execution_count": 3,
   "metadata": {},
   "outputs": [
    {
     "data": {
      "text/plain": [
       "True"
      ]
     },
     "execution_count": 3,
     "metadata": {},
     "output_type": "execute_result"
    }
   ],
   "source": [
    "import cv2  # importing OpenCV package \n",
    "\n",
    "img1 = cv2.imread(\"C:/Users/amres/Desktop/GISCLE/my_pic.jpg\", 1)  # importing the image to be read \n",
    "\n",
    "rgb = cv2.cvtColor(img1, cv2.COLOR_BGR2RGB)  # converting the image to RGB \n",
    "\n",
    "cv2.imshow(\"Converted Image\", rgb)  # showing the image to user\n",
    "\n",
    "cv2.imwrite(\"C:/Users/amres/Desktop/GISCLE/OUTPUT/rgbimage.jpg\", rgb)  # saving the RGB image to drive \n"
   ]
  }
 ],
 "metadata": {
  "kernelspec": {
   "display_name": "Python 3",
   "language": "python",
   "name": "python3"
  },
  "language_info": {
   "codemirror_mode": {
    "name": "ipython",
    "version": 3
   },
   "file_extension": ".py",
   "mimetype": "text/x-python",
   "name": "python",
   "nbconvert_exporter": "python",
   "pygments_lexer": "ipython3",
   "version": "3.6.3"
  }
 },
 "nbformat": 4,
 "nbformat_minor": 2
}
