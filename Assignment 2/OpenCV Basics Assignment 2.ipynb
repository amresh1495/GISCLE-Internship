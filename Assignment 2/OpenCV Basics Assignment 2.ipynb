{
 "cells": [
  {
   "cell_type": "code",
   "execution_count": 1,
   "metadata": {},
   "outputs": [
    {
     "data": {
      "text/plain": [
       "True"
      ]
     },
     "execution_count": 1,
     "metadata": {},
     "output_type": "execute_result"
    }
   ],
   "source": [
    "import cv2  # importing OpenCV package \n",
    "\n",
    "img1 = cv2.imread(\"C:/Users/amres/Desktop/GISCLE/my_pic.jpg\", 1)  # importing the image to be read \n",
    "\n",
    "hsv = cv2.cvtColor(img1, cv2.COLOR_BGR2HSV)  # converting the image to HSV \n",
    "\n",
    "cv2.imshow(\"Converted Image\", hsv)  # showing the image to user\n",
    "\n",
    "cv2.imwrite(\"C:/Users/amres/Desktop/GISCLE/OUTPUT/hsvimage.jpg\", hsv)  # saving the HSV image to drive \n"
   ]
  }
 ],
 "metadata": {
  "kernelspec": {
   "display_name": "Python 3",
   "language": "python",
   "name": "python3"
  },
  "language_info": {
   "codemirror_mode": {
    "name": "ipython",
    "version": 3
   },
   "file_extension": ".py",
   "mimetype": "text/x-python",
   "name": "python",
   "nbconvert_exporter": "python",
   "pygments_lexer": "ipython3",
   "version": "3.6.3"
  }
 },
 "nbformat": 4,
 "nbformat_minor": 2
}
